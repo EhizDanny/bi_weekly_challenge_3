{
  "cells": [
    {
      "cell_type": "code",
      "execution_count": 1,
      "id": "568e4c86-5edb-4988-8a55-46a168f5c14f",
      "metadata": {
        "colab": {
          "base_uri": "https://localhost:8080/",
          "height": 17
        },
        "id": "568e4c86-5edb-4988-8a55-46a168f5c14f",
        "outputId": "a75567f6-c456-426e-955d-3d773d6b3e68"
      },
      "outputs": [
        {
          "output_type": "display_data",
          "data": {
            "text/html": [
              "        <script type=\"text/javascript\">\n",
              "        window.PlotlyConfig = {MathJaxConfig: 'local'};\n",
              "        if (window.MathJax) {MathJax.Hub.Config({SVG: {font: \"STIX-Web\"}});}\n",
              "        if (typeof require !== 'undefined') {\n",
              "        require.undef(\"plotly\");\n",
              "        requirejs.config({\n",
              "            paths: {\n",
              "                'plotly': ['https://cdn.plot.ly/plotly-latest.min']\n",
              "            }\n",
              "        });\n",
              "        require(['plotly'], function(Plotly) {\n",
              "            window._Plotly = Plotly;\n",
              "        });\n",
              "        }\n",
              "        </script>\n",
              "        "
            ]
          },
          "metadata": {}
        }
      ],
      "source": [
        "# Regular EDA and plotting Libraries\n",
        "import numpy as np\n",
        "import pandas as pd\n",
        "import matplotlib.pyplot as plt\n",
        "import seaborn as sns\n",
        "import plotly.express as px\n",
        "import plotly.graph_objs as go\n",
        "import plotly.figure_factory as ff\n",
        "from plotly.subplots import make_subplots\n",
        "from plotly.offline import plot, iplot, init_notebook_mode\n",
        "init_notebook_mode(connected=True)\n",
        "import warnings\n",
        "warnings.filterwarnings('ignore')\n",
        "\n",
        "# import xgboost\n",
        "# import lightgbm\n",
        "\n",
        "\n",
        "# We want our plots to appear in the notebook\n",
        "#matplotlib inline\n",
        "\n",
        "# Models\n",
        "from sklearn.linear_model import LogisticRegression\n",
        "from sklearn.neighbors import KNeighborsClassifier\n",
        "from sklearn.ensemble import RandomForestClassifier\n",
        "from sklearn.ensemble import ExtraTreesClassifier\n",
        "from sklearn.preprocessing import StandardScaler\n",
        "from sklearn.svm import SVC\n",
        "from sklearn.ensemble import GradientBoostingClassifier\n",
        "from sklearn.tree import DecisionTreeClassifier\n",
        "\n",
        "#Model evaluators\n",
        "from sklearn.model_selection import train_test_split, cross_val_score\n",
        "from sklearn.model_selection import RandomizedSearchCV, GridSearchCV\n",
        "from sklearn.metrics import confusion_matrix, classification_report\n",
        "from sklearn.metrics import precision_score, recall_score, f1_score, accuracy_score\n",
        "from sklearn.metrics import plot_roc_curve"
      ]
    },
    {
      "cell_type": "code",
      "execution_count": 3,
      "id": "98e51386-6092-45e7-b7f4-c8fee91eac2c",
      "metadata": {
        "colab": {
          "base_uri": "https://localhost:8080/",
          "height": 270
        },
        "id": "98e51386-6092-45e7-b7f4-c8fee91eac2c",
        "outputId": "faf1acbe-c3d2-43b7-a6be-7b4b85fb3ee2"
      },
      "outputs": [
        {
          "output_type": "execute_result",
          "data": {
            "text/html": [
              "\n",
              "  <div id=\"df-8402d2f9-8e77-470c-9684-099740db9c88\">\n",
              "    <div class=\"colab-df-container\">\n",
              "      <div>\n",
              "<style scoped>\n",
              "    .dataframe tbody tr th:only-of-type {\n",
              "        vertical-align: middle;\n",
              "    }\n",
              "\n",
              "    .dataframe tbody tr th {\n",
              "        vertical-align: top;\n",
              "    }\n",
              "\n",
              "    .dataframe thead th {\n",
              "        text-align: right;\n",
              "    }\n",
              "</style>\n",
              "<table border=\"1\" class=\"dataframe\">\n",
              "  <thead>\n",
              "    <tr style=\"text-align: right;\">\n",
              "      <th></th>\n",
              "      <th>age</th>\n",
              "      <th>anaemia</th>\n",
              "      <th>creatinine_phosphokinase</th>\n",
              "      <th>diabetes</th>\n",
              "      <th>ejection_fraction</th>\n",
              "      <th>high_blood_pressure</th>\n",
              "      <th>platelets</th>\n",
              "      <th>serum_creatinine</th>\n",
              "      <th>serum_sodium</th>\n",
              "      <th>sex</th>\n",
              "      <th>smoking</th>\n",
              "      <th>time</th>\n",
              "      <th>DEATH_EVENT</th>\n",
              "    </tr>\n",
              "  </thead>\n",
              "  <tbody>\n",
              "    <tr>\n",
              "      <th>0</th>\n",
              "      <td>75.0</td>\n",
              "      <td>0</td>\n",
              "      <td>582</td>\n",
              "      <td>0</td>\n",
              "      <td>20</td>\n",
              "      <td>1</td>\n",
              "      <td>265000.00</td>\n",
              "      <td>1.9</td>\n",
              "      <td>130</td>\n",
              "      <td>1</td>\n",
              "      <td>0</td>\n",
              "      <td>4</td>\n",
              "      <td>1</td>\n",
              "    </tr>\n",
              "    <tr>\n",
              "      <th>1</th>\n",
              "      <td>55.0</td>\n",
              "      <td>0</td>\n",
              "      <td>7861</td>\n",
              "      <td>0</td>\n",
              "      <td>38</td>\n",
              "      <td>0</td>\n",
              "      <td>263358.03</td>\n",
              "      <td>1.1</td>\n",
              "      <td>136</td>\n",
              "      <td>1</td>\n",
              "      <td>0</td>\n",
              "      <td>6</td>\n",
              "      <td>1</td>\n",
              "    </tr>\n",
              "    <tr>\n",
              "      <th>2</th>\n",
              "      <td>65.0</td>\n",
              "      <td>0</td>\n",
              "      <td>146</td>\n",
              "      <td>0</td>\n",
              "      <td>20</td>\n",
              "      <td>0</td>\n",
              "      <td>162000.00</td>\n",
              "      <td>1.3</td>\n",
              "      <td>129</td>\n",
              "      <td>1</td>\n",
              "      <td>1</td>\n",
              "      <td>7</td>\n",
              "      <td>1</td>\n",
              "    </tr>\n",
              "    <tr>\n",
              "      <th>3</th>\n",
              "      <td>50.0</td>\n",
              "      <td>1</td>\n",
              "      <td>111</td>\n",
              "      <td>0</td>\n",
              "      <td>20</td>\n",
              "      <td>0</td>\n",
              "      <td>210000.00</td>\n",
              "      <td>1.9</td>\n",
              "      <td>137</td>\n",
              "      <td>1</td>\n",
              "      <td>0</td>\n",
              "      <td>7</td>\n",
              "      <td>1</td>\n",
              "    </tr>\n",
              "    <tr>\n",
              "      <th>4</th>\n",
              "      <td>65.0</td>\n",
              "      <td>1</td>\n",
              "      <td>160</td>\n",
              "      <td>1</td>\n",
              "      <td>20</td>\n",
              "      <td>0</td>\n",
              "      <td>327000.00</td>\n",
              "      <td>2.7</td>\n",
              "      <td>116</td>\n",
              "      <td>0</td>\n",
              "      <td>0</td>\n",
              "      <td>8</td>\n",
              "      <td>1</td>\n",
              "    </tr>\n",
              "  </tbody>\n",
              "</table>\n",
              "</div>\n",
              "      <button class=\"colab-df-convert\" onclick=\"convertToInteractive('df-8402d2f9-8e77-470c-9684-099740db9c88')\"\n",
              "              title=\"Convert this dataframe to an interactive table.\"\n",
              "              style=\"display:none;\">\n",
              "        \n",
              "  <svg xmlns=\"http://www.w3.org/2000/svg\" height=\"24px\"viewBox=\"0 0 24 24\"\n",
              "       width=\"24px\">\n",
              "    <path d=\"M0 0h24v24H0V0z\" fill=\"none\"/>\n",
              "    <path d=\"M18.56 5.44l.94 2.06.94-2.06 2.06-.94-2.06-.94-.94-2.06-.94 2.06-2.06.94zm-11 1L8.5 8.5l.94-2.06 2.06-.94-2.06-.94L8.5 2.5l-.94 2.06-2.06.94zm10 10l.94 2.06.94-2.06 2.06-.94-2.06-.94-.94-2.06-.94 2.06-2.06.94z\"/><path d=\"M17.41 7.96l-1.37-1.37c-.4-.4-.92-.59-1.43-.59-.52 0-1.04.2-1.43.59L10.3 9.45l-7.72 7.72c-.78.78-.78 2.05 0 2.83L4 21.41c.39.39.9.59 1.41.59.51 0 1.02-.2 1.41-.59l7.78-7.78 2.81-2.81c.8-.78.8-2.07 0-2.86zM5.41 20L4 18.59l7.72-7.72 1.47 1.35L5.41 20z\"/>\n",
              "  </svg>\n",
              "      </button>\n",
              "      \n",
              "  <style>\n",
              "    .colab-df-container {\n",
              "      display:flex;\n",
              "      flex-wrap:wrap;\n",
              "      gap: 12px;\n",
              "    }\n",
              "\n",
              "    .colab-df-convert {\n",
              "      background-color: #E8F0FE;\n",
              "      border: none;\n",
              "      border-radius: 50%;\n",
              "      cursor: pointer;\n",
              "      display: none;\n",
              "      fill: #1967D2;\n",
              "      height: 32px;\n",
              "      padding: 0 0 0 0;\n",
              "      width: 32px;\n",
              "    }\n",
              "\n",
              "    .colab-df-convert:hover {\n",
              "      background-color: #E2EBFA;\n",
              "      box-shadow: 0px 1px 2px rgba(60, 64, 67, 0.3), 0px 1px 3px 1px rgba(60, 64, 67, 0.15);\n",
              "      fill: #174EA6;\n",
              "    }\n",
              "\n",
              "    [theme=dark] .colab-df-convert {\n",
              "      background-color: #3B4455;\n",
              "      fill: #D2E3FC;\n",
              "    }\n",
              "\n",
              "    [theme=dark] .colab-df-convert:hover {\n",
              "      background-color: #434B5C;\n",
              "      box-shadow: 0px 1px 3px 1px rgba(0, 0, 0, 0.15);\n",
              "      filter: drop-shadow(0px 1px 2px rgba(0, 0, 0, 0.3));\n",
              "      fill: #FFFFFF;\n",
              "    }\n",
              "  </style>\n",
              "\n",
              "      <script>\n",
              "        const buttonEl =\n",
              "          document.querySelector('#df-8402d2f9-8e77-470c-9684-099740db9c88 button.colab-df-convert');\n",
              "        buttonEl.style.display =\n",
              "          google.colab.kernel.accessAllowed ? 'block' : 'none';\n",
              "\n",
              "        async function convertToInteractive(key) {\n",
              "          const element = document.querySelector('#df-8402d2f9-8e77-470c-9684-099740db9c88');\n",
              "          const dataTable =\n",
              "            await google.colab.kernel.invokeFunction('convertToInteractive',\n",
              "                                                     [key], {});\n",
              "          if (!dataTable) return;\n",
              "\n",
              "          const docLinkHtml = 'Like what you see? Visit the ' +\n",
              "            '<a target=\"_blank\" href=https://colab.research.google.com/notebooks/data_table.ipynb>data table notebook</a>'\n",
              "            + ' to learn more about interactive tables.';\n",
              "          element.innerHTML = '';\n",
              "          dataTable['output_type'] = 'display_data';\n",
              "          await google.colab.output.renderOutput(dataTable, element);\n",
              "          const docLink = document.createElement('div');\n",
              "          docLink.innerHTML = docLinkHtml;\n",
              "          element.appendChild(docLink);\n",
              "        }\n",
              "      </script>\n",
              "    </div>\n",
              "  </div>\n",
              "  "
            ],
            "text/plain": [
              "    age  anaemia  creatinine_phosphokinase  ...  smoking  time  DEATH_EVENT\n",
              "0  75.0        0                       582  ...        0     4            1\n",
              "1  55.0        0                      7861  ...        0     6            1\n",
              "2  65.0        0                       146  ...        1     7            1\n",
              "3  50.0        1                       111  ...        0     7            1\n",
              "4  65.0        1                       160  ...        0     8            1\n",
              "\n",
              "[5 rows x 13 columns]"
            ]
          },
          "metadata": {},
          "execution_count": 3
        }
      ],
      "source": [
        "df = pd.read_csv('/content/heart_failure_clinical_records_dataset.csv')\n",
        "df.head()"
      ]
    },
    {
      "cell_type": "code",
      "execution_count": 4,
      "id": "799158a1-3c1f-40b4-986a-5771f936c5ab",
      "metadata": {
        "colab": {
          "base_uri": "https://localhost:8080/"
        },
        "id": "799158a1-3c1f-40b4-986a-5771f936c5ab",
        "outputId": "8a681c37-7115-4978-b04c-8389370ff577"
      },
      "outputs": [
        {
          "output_type": "execute_result",
          "data": {
            "text/plain": [
              "array([0.0936576 , 0.02405202, 0.07425576, 0.02956527, 0.1287706 ,\n",
              "       0.02408373, 0.07000693, 0.12357926, 0.08771087, 0.02538445,\n",
              "       0.02547527, 0.29345823])"
            ]
          },
          "metadata": {},
          "execution_count": 4
        }
      ],
      "source": [
        "# Splitting our dataframe to run a proper model that will permit us to get the correct feature importances from our dataframe\n",
        "# Data split into X and y\n",
        "X=df.iloc[:,:-1]\n",
        "y=df.iloc[:,-1]\n",
        "\n",
        "#Running and fitting the Extratressclassifier model\n",
        "et=ExtraTreesClassifier()\n",
        "et.fit(X,y)\n",
        "\n",
        "# Running feature importance from our dataframe\n",
        "et.feature_importances_"
      ]
    },
    {
      "cell_type": "code",
      "execution_count": 5,
      "id": "20067488-6b3a-4dfc-99d5-e265beb80843",
      "metadata": {
        "colab": {
          "base_uri": "https://localhost:8080/",
          "height": 483
        },
        "id": "20067488-6b3a-4dfc-99d5-e265beb80843",
        "outputId": "25dae1de-3d09-4301-f45d-ffccb17b8d17"
      },
      "outputs": [
        {
          "output_type": "display_data",
          "data": {
            "image/png": "[encoded data removed]",
            "text/plain": [
              "<Figure size 1008x576 with 1 Axes>"
            ]
          },
          "metadata": {
            "needs_background": "light"
          }
        }
      ],
      "source": [
        "plt.figure(figsize=(14,8))\n",
        "feat_importances = pd.Series(et.feature_importances_, index=X.columns)\n",
        "feat_importances.nlargest(12).plot(kind='barh')\n",
        "plt.show()"
      ]
    },
    {
      "cell_type": "markdown",
      "id": "31e663df-7635-48f3-8983-fef024447573",
      "metadata": {
        "id": "31e663df-7635-48f3-8983-fef024447573"
      },
      "source": [
        "## We shall select top 4 features from above graph and use it for our model building"
      ]
    },
    {
      "cell_type": "code",
      "execution_count": 56,
      "id": "05d9186b-c57d-4f5f-a795-63c76fa6f631",
      "metadata": {
        "id": "05d9186b-c57d-4f5f-a795-63c76fa6f631"
      },
      "outputs": [],
      "source": [
        "#We shall select only 4 features\n",
        "X = df[['time', 'ejection_fraction', 'serum_creatinine','age', 'serum_sodium', 'creatinine_phosphokinase', 'platelets']]\n",
        "y = df['DEATH_EVENT']"
      ]
    },
    {
      "cell_type": "code",
      "execution_count": 57,
      "id": "20e748f5-386b-4a82-9b87-8af995a55ec8",
      "metadata": {
        "id": "20e748f5-386b-4a82-9b87-8af995a55ec8"
      },
      "outputs": [],
      "source": [
        "# Splitting data into X and y for modelling\n",
        "X_train, X_test, y_train, y_test = train_test_split(X, y, test_size= 0.2, random_state=0)"
      ]
    },
    {
      "cell_type": "code",
      "execution_count": 58,
      "id": "52a6c4a3-29d3-409a-80ba-1d5ee18f5f8e",
      "metadata": {
        "id": "52a6c4a3-29d3-409a-80ba-1d5ee18f5f8e"
      },
      "outputs": [],
      "source": [
        "# We will be Scaling the training data to learn the scaling parameters of our data.\n",
        "\n",
        "scaler=StandardScaler()\n",
        "X_train=scaler.fit_transform(X_train)\n",
        "X_test=scaler.transform(X_test)"
      ]
    },
    {
      "cell_type": "markdown",
      "id": "bf4ac5f4-088b-462f-a103-6a99c0587ff7",
      "metadata": {
        "id": "bf4ac5f4-088b-462f-a103-6a99c0587ff7"
      },
      "source": [
        "## Feature Engineering.........."
      ]
    },
    {
      "cell_type": "code",
      "execution_count": 59,
      "id": "95e7c8da-f58d-47a4-879d-cc71c1ce90c1",
      "metadata": {
        "id": "95e7c8da-f58d-47a4-879d-cc71c1ce90c1"
      },
      "outputs": [],
      "source": [
        "# PUtting models in a dictionary\n",
        "models = {'KNN': KNeighborsClassifier(),\n",
        "          'Logistic Regression': LogisticRegression(),\n",
        "          'Random Forest': RandomForestClassifier(),\n",
        "#           'Scaler': StandardScaler(),\n",
        "          'SVC': SVC(),\n",
        "          'DecisionTreeClassifier': DecisionTreeClassifier()}\n",
        "\n",
        "# Creating functions to fit and score models\n",
        "def fit_and_score(models, X_train, X_test, y_train, y_test):\n",
        "    \"\"\"\n",
        "    Fits and evaluates given machine learning models.\n",
        "    models: a dict of different scikit=learn machine learning models\n",
        "    x_train: training data\n",
        "    x_test: testing data\n",
        "    y_train: labels associated with training data\n",
        "    y_test: labels associated with test data\n",
        "    \"\"\"\n",
        "    # Randomseed for reproducible results\n",
        "    np.random.seed(0)\n",
        "    # Make a list to keep model scores\n",
        "    model_scores = {}\n",
        "    # Loop through models\n",
        "    for name, model in models.items():\n",
        "        #fit the model to the data\n",
        "        model.fit(X_train, y_train)\n",
        "        # Evaluate the model and append its score to model_scores\n",
        "        model_scores[name] = model.score(X_test, y_test)\n",
        "    return model_scores\n",
        "        "
      ]
    },
    {
      "cell_type": "code",
      "execution_count": 60,
      "id": "b1798a0d-940a-4064-aa81-74ac39795d50",
      "metadata": {
        "colab": {
          "base_uri": "https://localhost:8080/"
        },
        "id": "b1798a0d-940a-4064-aa81-74ac39795d50",
        "outputId": "fcb48c32-ed2a-40fc-82f3-ed7f6ef7f6c0"
      },
      "outputs": [
        {
          "output_type": "execute_result",
          "data": {
            "text/plain": [
              "{'DecisionTreeClassifier': 0.7333333333333333,\n",
              " 'KNN': 0.7333333333333333,\n",
              " 'Logistic Regression': 0.8,\n",
              " 'Random Forest': 0.8666666666666667,\n",
              " 'SVC': 0.85}"
            ]
          },
          "metadata": {},
          "execution_count": 60
        }
      ],
      "source": [
        "# Fitting data into all models\n",
        "model_scores = fit_and_score(models=models, X_train=X_train, X_test=X_test, y_train=y_train, y_test=y_test)\n",
        "model_scores"
      ]
    },
    {
      "cell_type": "code",
      "execution_count": 61,
      "id": "e6abe110-1c00-4a6c-a6b6-8a7701340b35",
      "metadata": {
        "colab": {
          "base_uri": "https://localhost:8080/",
          "height": 365
        },
        "id": "e6abe110-1c00-4a6c-a6b6-8a7701340b35",
        "outputId": "6f37545e-fc24-4135-ae89-6fc0470884b6"
      },
      "outputs": [
        {
          "output_type": "display_data",
          "data": {
            "image/png": "[encoded data removed]",
            "text/plain": [
              "<Figure size 432x288 with 1 Axes>"
            ]
          },
          "metadata": {
            "needs_background": "light"
          }
        }
      ],
      "source": [
        "#Visualizing model scores\n",
        "model_compare = pd.DataFrame(model_scores, index=['accuracy'])\n",
        "model_compare.T.plot.bar();"
      ]
    },
    {
      "cell_type": "markdown",
      "id": "1e07cf62-e648-4622-8d25-9f21568e6808",
      "metadata": {
        "id": "1e07cf62-e648-4622-8d25-9f21568e6808"
      },
      "source": [
        " ### Lets try to increase our Accuracy by checking out if we have major outliers then remove them to exploire further"
      ]
    },
    {
      "cell_type": "code",
      "execution_count": 62,
      "id": "fd1f2ac4-1132-4096-b134-c5aacf8ce0c9",
      "metadata": {
        "colab": {
          "base_uri": "https://localhost:8080/",
          "height": 280
        },
        "id": "fd1f2ac4-1132-4096-b134-c5aacf8ce0c9",
        "outputId": "80b29d15-4b83-4068-cafd-30993b3dcfe9"
      },
      "outputs": [
        {
          "output_type": "display_data",
          "data": {
            "image/png": "[encoded data removed]",
            "text/plain": [
              "<Figure size 432x288 with 1 Axes>"
            ]
          },
          "metadata": {
            "needs_background": "light"
          }
        }
      ],
      "source": [
        "# Checking the ejection_fraction for outliers visually using boxplot\n",
        "sns.boxplot(x = df.ejection_fraction, color = 'teal')\n",
        "plt.show()"
      ]
    },
    {
      "cell_type": "code",
      "execution_count": 63,
      "id": "8ba3f356-0e0b-4b57-9994-f677c39dc2fc",
      "metadata": {
        "colab": {
          "base_uri": "https://localhost:8080/",
          "height": 176
        },
        "id": "8ba3f356-0e0b-4b57-9994-f677c39dc2fc",
        "outputId": "4c2e39c2-1a61-4053-dfed-57f2f21d79c5"
      },
      "outputs": [
        {
          "output_type": "execute_result",
          "data": {
            "text/html": [
              "\n",
              "  <div id=\"df-6fdfcbd9-ec37-4bda-b02a-8cb3ea6e0ecd\">\n",
              "    <div class=\"colab-df-container\">\n",
              "      <div>\n",
              "<style scoped>\n",
              "    .dataframe tbody tr th:only-of-type {\n",
              "        vertical-align: middle;\n",
              "    }\n",
              "\n",
              "    .dataframe tbody tr th {\n",
              "        vertical-align: top;\n",
              "    }\n",
              "\n",
              "    .dataframe thead th {\n",
              "        text-align: right;\n",
              "    }\n",
              "</style>\n",
              "<table border=\"1\" class=\"dataframe\">\n",
              "  <thead>\n",
              "    <tr style=\"text-align: right;\">\n",
              "      <th></th>\n",
              "      <th>age</th>\n",
              "      <th>anaemia</th>\n",
              "      <th>creatinine_phosphokinase</th>\n",
              "      <th>diabetes</th>\n",
              "      <th>ejection_fraction</th>\n",
              "      <th>high_blood_pressure</th>\n",
              "      <th>platelets</th>\n",
              "      <th>serum_creatinine</th>\n",
              "      <th>serum_sodium</th>\n",
              "      <th>sex</th>\n",
              "      <th>smoking</th>\n",
              "      <th>time</th>\n",
              "      <th>DEATH_EVENT</th>\n",
              "    </tr>\n",
              "  </thead>\n",
              "  <tbody>\n",
              "    <tr>\n",
              "      <th>64</th>\n",
              "      <td>45.0</td>\n",
              "      <td>0</td>\n",
              "      <td>582</td>\n",
              "      <td>0</td>\n",
              "      <td>80</td>\n",
              "      <td>0</td>\n",
              "      <td>263358.03</td>\n",
              "      <td>1.18</td>\n",
              "      <td>137</td>\n",
              "      <td>0</td>\n",
              "      <td>0</td>\n",
              "      <td>63</td>\n",
              "      <td>0</td>\n",
              "    </tr>\n",
              "    <tr>\n",
              "      <th>217</th>\n",
              "      <td>54.0</td>\n",
              "      <td>1</td>\n",
              "      <td>427</td>\n",
              "      <td>0</td>\n",
              "      <td>70</td>\n",
              "      <td>1</td>\n",
              "      <td>151000.00</td>\n",
              "      <td>9.00</td>\n",
              "      <td>137</td>\n",
              "      <td>0</td>\n",
              "      <td>0</td>\n",
              "      <td>196</td>\n",
              "      <td>1</td>\n",
              "    </tr>\n",
              "  </tbody>\n",
              "</table>\n",
              "</div>\n",
              "      <button class=\"colab-df-convert\" onclick=\"convertToInteractive('df-6fdfcbd9-ec37-4bda-b02a-8cb3ea6e0ecd')\"\n",
              "              title=\"Convert this dataframe to an interactive table.\"\n",
              "              style=\"display:none;\">\n",
              "        \n",
              "  <svg xmlns=\"http://www.w3.org/2000/svg\" height=\"24px\"viewBox=\"0 0 24 24\"\n",
              "       width=\"24px\">\n",
              "    <path d=\"M0 0h24v24H0V0z\" fill=\"none\"/>\n",
              "    <path d=\"M18.56 5.44l.94 2.06.94-2.06 2.06-.94-2.06-.94-.94-2.06-.94 2.06-2.06.94zm-11 1L8.5 8.5l.94-2.06 2.06-.94-2.06-.94L8.5 2.5l-.94 2.06-2.06.94zm10 10l.94 2.06.94-2.06 2.06-.94-2.06-.94-.94-2.06-.94 2.06-2.06.94z\"/><path d=\"M17.41 7.96l-1.37-1.37c-.4-.4-.92-.59-1.43-.59-.52 0-1.04.2-1.43.59L10.3 9.45l-7.72 7.72c-.78.78-.78 2.05 0 2.83L4 21.41c.39.39.9.59 1.41.59.51 0 1.02-.2 1.41-.59l7.78-7.78 2.81-2.81c.8-.78.8-2.07 0-2.86zM5.41 20L4 18.59l7.72-7.72 1.47 1.35L5.41 20z\"/>\n",
              "  </svg>\n",
              "      </button>\n",
              "      \n",
              "  <style>\n",
              "    .colab-df-container {\n",
              "      display:flex;\n",
              "      flex-wrap:wrap;\n",
              "      gap: 12px;\n",
              "    }\n",
              "\n",
              "    .colab-df-convert {\n",
              "      background-color: #E8F0FE;\n",
              "      border: none;\n",
              "      border-radius: 50%;\n",
              "      cursor: pointer;\n",
              "      display: none;\n",
              "      fill: #1967D2;\n",
              "      height: 32px;\n",
              "      padding: 0 0 0 0;\n",
              "      width: 32px;\n",
              "    }\n",
              "\n",
              "    .colab-df-convert:hover {\n",
              "      background-color: #E2EBFA;\n",
              "      box-shadow: 0px 1px 2px rgba(60, 64, 67, 0.3), 0px 1px 3px 1px rgba(60, 64, 67, 0.15);\n",
              "      fill: #174EA6;\n",
              "    }\n",
              "\n",
              "    [theme=dark] .colab-df-convert {\n",
              "      background-color: #3B4455;\n",
              "      fill: #D2E3FC;\n",
              "    }\n",
              "\n",
              "    [theme=dark] .colab-df-convert:hover {\n",
              "      background-color: #434B5C;\n",
              "      box-shadow: 0px 1px 3px 1px rgba(0, 0, 0, 0.15);\n",
              "      filter: drop-shadow(0px 1px 2px rgba(0, 0, 0, 0.3));\n",
              "      fill: #FFFFFF;\n",
              "    }\n",
              "  </style>\n",
              "\n",
              "      <script>\n",
              "        const buttonEl =\n",
              "          document.querySelector('#df-6fdfcbd9-ec37-4bda-b02a-8cb3ea6e0ecd button.colab-df-convert');\n",
              "        buttonEl.style.display =\n",
              "          google.colab.kernel.accessAllowed ? 'block' : 'none';\n",
              "\n",
              "        async function convertToInteractive(key) {\n",
              "          const element = document.querySelector('#df-6fdfcbd9-ec37-4bda-b02a-8cb3ea6e0ecd');\n",
              "          const dataTable =\n",
              "            await google.colab.kernel.invokeFunction('convertToInteractive',\n",
              "                                                     [key], {});\n",
              "          if (!dataTable) return;\n",
              "\n",
              "          const docLinkHtml = 'Like what you see? Visit the ' +\n",
              "            '<a target=\"_blank\" href=https://colab.research.google.com/notebooks/data_table.ipynb>data table notebook</a>'\n",
              "            + ' to learn more about interactive tables.';\n",
              "          element.innerHTML = '';\n",
              "          dataTable['output_type'] = 'display_data';\n",
              "          await google.colab.output.renderOutput(dataTable, element);\n",
              "          const docLink = document.createElement('div');\n",
              "          docLink.innerHTML = docLinkHtml;\n",
              "          element.appendChild(docLink);\n",
              "        }\n",
              "      </script>\n",
              "    </div>\n",
              "  </div>\n",
              "  "
            ],
            "text/plain": [
              "      age  anaemia  creatinine_phosphokinase  ...  smoking  time  DEATH_EVENT\n",
              "64   45.0        0                       582  ...        0    63            0\n",
              "217  54.0        1                       427  ...        0   196            1\n",
              "\n",
              "[2 rows x 13 columns]"
            ]
          },
          "metadata": {},
          "execution_count": 63
        }
      ],
      "source": [
        "# Major ejection_fraction outliers to be removed\n",
        "df[df['ejection_fraction']>=70]"
      ]
    },
    {
      "cell_type": "code",
      "execution_count": 64,
      "id": "53c21baa-9820-4f2d-8109-5f4b86f2d0f2",
      "metadata": {
        "id": "53c21baa-9820-4f2d-8109-5f4b86f2d0f2"
      },
      "outputs": [],
      "source": [
        "# Creating new Datafrome without ejection_fractoin outliers\n",
        "# ejection_fraction outliers\n",
        "df1=df[df['ejection_fraction']<70]"
      ]
    },
    {
      "cell_type": "code",
      "execution_count": 65,
      "id": "f4a918c3-32ac-46ed-83bb-5140fedbb2da",
      "metadata": {
        "colab": {
          "base_uri": "https://localhost:8080/",
          "height": 279
        },
        "id": "f4a918c3-32ac-46ed-83bb-5140fedbb2da",
        "outputId": "87486f03-72d6-4d91-93c1-65de72c7237e"
      },
      "outputs": [
        {
          "output_type": "display_data",
          "data": {
            "image/png": "[encoded data removed]",
            "text/plain": [
              "<Figure size 432x288 with 1 Axes>"
            ]
          },
          "metadata": {
            "needs_background": "light"
          }
        }
      ],
      "source": [
        "# Checking for possible outliers in Time\n",
        "sns.boxplot(x=df1.time, color = 'red')\n",
        "plt.show()\n",
        "# No outliers in the Time column"
      ]
    },
    {
      "cell_type": "code",
      "execution_count": 66,
      "id": "99d258dd-236b-40b0-8853-89ea295094fb",
      "metadata": {
        "colab": {
          "base_uri": "https://localhost:8080/",
          "height": 280
        },
        "id": "99d258dd-236b-40b0-8853-89ea295094fb",
        "outputId": "a90fe293-4b78-4264-f397-427e944c424a"
      },
      "outputs": [
        {
          "output_type": "display_data",
          "data": {
            "image/png": "[encoded data removed]",
            "text/plain": [
              "<Figure size 432x288 with 1 Axes>"
            ]
          },
          "metadata": {
            "needs_background": "light"
          }
        }
      ],
      "source": [
        "# Checking for outliers in serum_creatinine\n",
        "sns.boxplot(x=df1.serum_creatinine, color = 'yellow')\n",
        "plt.show()"
      ]
    },
    {
      "cell_type": "code",
      "execution_count": 67,
      "id": "d046928f-4b73-4730-9ffa-e7f26a537cb9",
      "metadata": {
        "id": "d046928f-4b73-4730-9ffa-e7f26a537cb9"
      },
      "outputs": [],
      "source": [
        "## After Due research, I noted that Serum_creatinine can frequently have outliers like the one found in the image above"
      ]
    },
    {
      "cell_type": "code",
      "execution_count": 68,
      "id": "082f0a7d-f8a4-4355-8542-55da83d7c3cf",
      "metadata": {
        "id": "082f0a7d-f8a4-4355-8542-55da83d7c3cf"
      },
      "outputs": [],
      "source": [
        "# I will reinstantiate our X and y splits with the new dataframe\n",
        "X = df1[['time', 'ejection_fraction', 'serum_creatinine','age', 'serum_sodium', 'creatinine_phosphokinase', 'platelets']]\n",
        "y = df1['DEATH_EVENT']"
      ]
    },
    {
      "cell_type": "code",
      "execution_count": 69,
      "id": "452759f5-b16c-4623-acc3-c7917184e86d",
      "metadata": {
        "id": "452759f5-b16c-4623-acc3-c7917184e86d"
      },
      "outputs": [],
      "source": [
        "X_train, X_test, y_train, y_test = train_test_split(X, y, test_size= 0.2, random_state=0)"
      ]
    },
    {
      "cell_type": "code",
      "execution_count": 70,
      "id": "edc9a1e1-7c29-40b9-87c7-2390b5b28315",
      "metadata": {
        "id": "edc9a1e1-7c29-40b9-87c7-2390b5b28315"
      },
      "outputs": [],
      "source": [
        "scaler=StandardScaler()\n",
        "\n",
        "X_train = scaler.fit_transform(X_train)\n",
        "X_test = scaler.transform(X_test)"
      ]
    },
    {
      "cell_type": "code",
      "execution_count": 71,
      "id": "ad480757-b7eb-4862-ba73-c7f87b713b20",
      "metadata": {
        "colab": {
          "base_uri": "https://localhost:8080/"
        },
        "id": "ad480757-b7eb-4862-ba73-c7f87b713b20",
        "outputId": "46786716-b32e-4b52-f3db-f09a0ec04f1a"
      },
      "outputs": [
        {
          "output_type": "execute_result",
          "data": {
            "text/plain": [
              "{'DecisionTreeClassifier': 0.9166666666666666,\n",
              " 'KNN': 0.8333333333333334,\n",
              " 'Logistic Regression': 0.9,\n",
              " 'Random Forest': 0.9333333333333333,\n",
              " 'SVC': 0.8666666666666667}"
            ]
          },
          "metadata": {},
          "execution_count": 71
        }
      ],
      "source": [
        "# We will Run our model again by calling the defined function\n",
        "model_scores = fit_and_score(models=models, X_train=X_train, X_test=X_test, y_train=y_train, y_test=y_test)\n",
        "model_scores"
      ]
    },
    {
      "cell_type": "markdown",
      "id": "fe882ee8-435a-4157-b5a6-35b28c70dd9d",
      "metadata": {
        "id": "fe882ee8-435a-4157-b5a6-35b28c70dd9d"
      },
      "source": [
        "## Now we notice a big improvement on our model after removing the outlier"
      ]
    },
    {
      "cell_type": "code",
      "execution_count": 72,
      "id": "421ee382-e13d-4b47-8066-7f35adb2fe0f",
      "metadata": {
        "colab": {
          "base_uri": "https://localhost:8080/",
          "height": 365
        },
        "id": "421ee382-e13d-4b47-8066-7f35adb2fe0f",
        "outputId": "ae79a97a-3de2-4979-a9a2-708d7758a304"
      },
      "outputs": [
        {
          "output_type": "display_data",
          "data": {
            "image/png": "[encoded data removed]",
            "text/plain": [
              "<Figure size 432x288 with 1 Axes>"
            ]
          },
          "metadata": {
            "needs_background": "light"
          }
        }
      ],
      "source": [
        "#Visualizing model scores\n",
        "model_compare = pd.DataFrame(model_scores, index=['accuracy'])\n",
        "model_compare.T.plot.bar();"
      ]
    },
    {
      "cell_type": "markdown",
      "id": "71d71d17-bcc7-4223-9b98-ec19f4ec2bc0",
      "metadata": {
        "id": "71d71d17-bcc7-4223-9b98-ec19f4ec2bc0"
      },
      "source": [
        "### Let's fine tume our individual models and see if we will generate better scores"
      ]
    },
    {
      "cell_type": "code",
      "execution_count": 73,
      "id": "0fdb09fe-36f7-43c0-9d57-eacdcd82c617",
      "metadata": {
        "id": "0fdb09fe-36f7-43c0-9d57-eacdcd82c617"
      },
      "outputs": [],
      "source": [
        "\n",
        "knn_predict = KNeighborsClassifier()\n",
        "logistic_predict = LogisticRegression()\n",
        "random_predict = RandomForestClassifier()\n",
        "svc_predict = SVC()\n",
        "decision_predict = DecisionTreeClassifier()\n",
        "\n",
        "knn_predict.fit(X_train, y_train)\n",
        "logistic_predict.fit(X_train, y_train)\n",
        "random_predict.fit(X_train, y_train)\n",
        "svc_predict.fit(X_train, y_train)\n",
        "decision_predict.fit(X_train, y_train)\n",
        "\n",
        "knn_pred = knn_predict.predict(X_test)\n",
        "logistic_pred = logistic_predict.predict(X_test)\n",
        "random_pred = logistic_predict.predict(X_test)\n",
        "svc_pred = svc_predict.predict(X_test)\n",
        "decision_pred = decision_predict.predict(X_test)"
      ]
    },
    {
      "cell_type": "code",
      "execution_count": 74,
      "id": "474f595e-3f05-41a1-90dd-0aef7a63dede",
      "metadata": {
        "colab": {
          "base_uri": "https://localhost:8080/"
        },
        "id": "474f595e-3f05-41a1-90dd-0aef7a63dede",
        "outputId": "a876e47c-58f7-49fb-e52d-de78c9070627"
      },
      "outputs": [
        {
          "output_type": "stream",
          "name": "stdout",
          "text": [
            "knn_pred:  [[40  3]\n",
            " [ 7 10]]\n",
            "logistic_pred;  [[40  3]\n",
            " [ 3 14]]\n",
            "random_pred:  [[40  3]\n",
            " [ 3 14]]\n",
            "svc_pred:  [[40  3]\n",
            " [ 5 12]]\n",
            "decision_pred:  [[38  5]\n",
            " [ 1 16]]\n"
          ]
        }
      ],
      "source": [
        "# Lets start by checking some metrics on the models so far\n",
        "# Confusion matrix\n",
        "print('knn_pred: ', confusion_matrix(y_test,knn_pred)), print('logistic_pred; ', confusion_matrix(y_test, logistic_pred)), print('random_pred: ', confusion_matrix(y_test,random_pred)), print('svc_pred: ', confusion_matrix(y_test,svc_pred)), \n",
        "print('decision_pred: ', confusion_matrix(y_test,decision_pred))"
      ]
    },
    {
      "cell_type": "code",
      "execution_count": 75,
      "id": "e4a65cc4-7348-4e9a-be14-970d895ae1ff",
      "metadata": {
        "colab": {
          "base_uri": "https://localhost:8080/"
        },
        "id": "e4a65cc4-7348-4e9a-be14-970d895ae1ff",
        "outputId": "48237901-e0a0-4804-c731-b90e8471cd9a"
      },
      "outputs": [
        {
          "output_type": "stream",
          "name": "stdout",
          "text": [
            "knn_pred:                precision    recall  f1-score   support\n",
            "\n",
            "           0       0.85      0.93      0.89        43\n",
            "           1       0.77      0.59      0.67        17\n",
            "\n",
            "    accuracy                           0.83        60\n",
            "   macro avg       0.81      0.76      0.78        60\n",
            "weighted avg       0.83      0.83      0.83        60\n",
            "\n",
            "logistic_pred;                precision    recall  f1-score   support\n",
            "\n",
            "           0       0.93      0.93      0.93        43\n",
            "           1       0.82      0.82      0.82        17\n",
            "\n",
            "    accuracy                           0.90        60\n",
            "   macro avg       0.88      0.88      0.88        60\n",
            "weighted avg       0.90      0.90      0.90        60\n",
            "\n",
            "random_pred:                precision    recall  f1-score   support\n",
            "\n",
            "           0       0.93      0.93      0.93        43\n",
            "           1       0.82      0.82      0.82        17\n",
            "\n",
            "    accuracy                           0.90        60\n",
            "   macro avg       0.88      0.88      0.88        60\n",
            "weighted avg       0.90      0.90      0.90        60\n",
            "\n",
            "svc_pred:                precision    recall  f1-score   support\n",
            "\n",
            "           0       0.89      0.93      0.91        43\n",
            "           1       0.80      0.71      0.75        17\n",
            "\n",
            "    accuracy                           0.87        60\n",
            "   macro avg       0.84      0.82      0.83        60\n",
            "weighted avg       0.86      0.87      0.86        60\n",
            "\n",
            "decision_pred:  [[38  5]\n",
            " [ 1 16]]\n"
          ]
        }
      ],
      "source": [
        "# Lets start by checking some metrics on the models so far\n",
        "# Classification Report\n",
        "print('knn_pred: ', classification_report(y_test,knn_pred)), print('logistic_pred; ', classification_report(y_test, logistic_pred)), print('random_pred: ', classification_report(y_test,random_pred)), print('svc_pred: ', classification_report(y_test,svc_pred)), \n",
        "print('decision_pred: ', confusion_matrix(y_test,decision_pred))"
      ]
    },
    {
      "cell_type": "markdown",
      "id": "ed8d6c74-b063-4cab-abf2-fbaeda22db2f",
      "metadata": {
        "id": "ed8d6c74-b063-4cab-abf2-fbaeda22db2f"
      },
      "source": [
        "## Let us start fine tuning the KNeighborsClassifier"
      ]
    },
    {
      "cell_type": "code",
      "execution_count": 76,
      "id": "45dc2624-2b58-44ca-a48e-3f0dcf937447",
      "metadata": {
        "colab": {
          "base_uri": "https://localhost:8080/",
          "height": 267
        },
        "id": "45dc2624-2b58-44ca-a48e-3f0dcf937447",
        "outputId": "92cbf2b6-518e-4862-e9e4-6c5a8011cc54"
      },
      "outputs": [
        {
          "output_type": "display_data",
          "data": {
            "image/png": "[encoded data removed]",
            "text/plain": [
              "<Figure size 432x288 with 1 Axes>"
            ]
          },
          "metadata": {
            "needs_background": "light"
          }
        }
      ],
      "source": [
        "# Let us code and plot to find the k-neighbors digit with the lowest error possible\n",
        "#Choosing K value\n",
        "list1=[]\n",
        "for k in range(3,10):\n",
        "    classifier=KNeighborsClassifier(n_neighbors=k)\n",
        "    classifier.fit(X_train,y_train)\n",
        "    y_pred=classifier.predict(X_test)\n",
        "    errors=1-accuracy_score(y_test,y_pred)\n",
        "    list1.append(errors)\n",
        "plt.plot(list(range(3,10)),list1)\n",
        "plt.show()"
      ]
    },
    {
      "cell_type": "markdown",
      "id": "12344c23-adb7-4636-a711-b107137ea0eb",
      "metadata": {
        "id": "12344c23-adb7-4636-a711-b107137ea0eb"
      },
      "source": [
        "## The plot above shows the k-neighbors figure with the lowest possible error ranges from 5 to 9"
      ]
    },
    {
      "cell_type": "code",
      "execution_count": 78,
      "id": "51969eb3-7854-4c39-9d39-54fae1443341",
      "metadata": {
        "colab": {
          "base_uri": "https://localhost:8080/"
        },
        "id": "51969eb3-7854-4c39-9d39-54fae1443341",
        "outputId": "1f46daaf-664b-4f62-89ba-b5ca11f0e725"
      },
      "outputs": [
        {
          "output_type": "execute_result",
          "data": {
            "text/plain": [
              "(0.8666666666666667, array([[40,  3],\n",
              "        [ 5, 12]]))"
            ]
          },
          "metadata": {},
          "execution_count": 78
        }
      ],
      "source": [
        "# We will tune KNeigbors with parameter 5 and hope for better results\n",
        "classifier = KNeighborsClassifier(n_neighbors=7)\n",
        "classifier.fit(X_train, y_train)\n",
        "\n",
        "kpred=classifier.predict(X_test)\n",
        "classifier.score(X_test, y_test), confusion_matrix(y_test, kpred)"
      ]
    },
    {
      "cell_type": "markdown",
      "id": "d5fe98ce-7e34-4d20-a94d-988992e55186",
      "metadata": {
        "id": "d5fe98ce-7e34-4d20-a94d-988992e55186"
      },
      "source": [
        "### The above result shows KNeighbors isn't improving"
      ]
    },
    {
      "cell_type": "code",
      "execution_count": 27,
      "id": "0fc01d00-365a-4e44-be2d-ade2f58e8dc0",
      "metadata": {
        "id": "0fc01d00-365a-4e44-be2d-ade2f58e8dc0"
      },
      "outputs": [],
      "source": [
        ""
      ]
    },
    {
      "cell_type": "markdown",
      "id": "e42688a2-dc74-4f41-b8b8-eec23d8b0bf4",
      "metadata": {
        "id": "e42688a2-dc74-4f41-b8b8-eec23d8b0bf4"
      },
      "source": [
        "#### Fine Tuning Logistic Regression and RandomForest using GridSearchCV\n"
      ]
    },
    {
      "cell_type": "code",
      "execution_count": 79,
      "id": "348def69-5fbc-4f91-bc3c-b571d8bf17f2",
      "metadata": {
        "id": "348def69-5fbc-4f91-bc3c-b571d8bf17f2"
      },
      "outputs": [],
      "source": [
        "# hyperparameters to be used for logisticRegression (RandomSearchCV and GridsearchCV)\n",
        "log_reg_grid = {'C': np.logspace(-4,4,20),\n",
        "                'solver': ['liblinear']}\n",
        "\n",
        "# hyperparameters to be used for RandomForest (RandomSearchCV and GridsearchCV)\n",
        "rf_grid = {'n_estimators': np.arange(10,1000,50),\n",
        "           'max_depth': [None, 3,5,10],\n",
        "           'min_samples_split': np.arange(2,20,2),\n",
        "           'min_samples_leaf': np.arange(1,20,2)}"
      ]
    },
    {
      "cell_type": "code",
      "execution_count": 80,
      "id": "641770f3-22ea-4c32-9996-2f328ab1bbf7",
      "metadata": {
        "colab": {
          "base_uri": "https://localhost:8080/"
        },
        "id": "641770f3-22ea-4c32-9996-2f328ab1bbf7",
        "outputId": "79c30f18-e082-45ef-b1ab-2f1cb80ee65b"
      },
      "outputs": [
        {
          "output_type": "stream",
          "name": "stdout",
          "text": [
            "Fitting 5 folds for each of 20 candidates, totalling 100 fits\n"
          ]
        }
      ],
      "source": [
        "## We will let RandomizedSearchCV try 20 different combinations of hyperparameters\n",
        "np.random.seed(0)\n",
        "\n",
        "# Setting up random hyperparameter search for logisticregression\n",
        "rs_log_reg = RandomizedSearchCV(LogisticRegression(),\n",
        "                                param_distributions = log_reg_grid,\n",
        "                                cv=5,\n",
        "                                n_iter=20,\n",
        "                                verbose=True)\n",
        "\n",
        "# Fit random hyperparameter search model\n",
        "rs_log_reg.fit(X_train, y_train);"
      ]
    },
    {
      "cell_type": "code",
      "execution_count": 81,
      "id": "99b79b00-668f-44e4-aed1-e59b736ce2e3",
      "metadata": {
        "colab": {
          "base_uri": "https://localhost:8080/"
        },
        "id": "99b79b00-668f-44e4-aed1-e59b736ce2e3",
        "outputId": "1b13aba3-0bbd-4a3b-c155-0cca319463b8"
      },
      "outputs": [
        {
          "output_type": "execute_result",
          "data": {
            "text/plain": [
              "{'C': 0.23357214690901212, 'solver': 'liblinear'}"
            ]
          },
          "metadata": {},
          "execution_count": 81
        }
      ],
      "source": [
        "# Pulling the best parameter from all different combinations (RandomSearchCV - LogisticRegression)\n",
        "rs_log_reg.best_params_"
      ]
    },
    {
      "cell_type": "code",
      "execution_count": 82,
      "id": "27254471-5fd0-41f8-83a7-1995ae24c91c",
      "metadata": {
        "colab": {
          "base_uri": "https://localhost:8080/"
        },
        "id": "27254471-5fd0-41f8-83a7-1995ae24c91c",
        "outputId": "aa101d85-360c-4eaf-b2ee-d8358b19fafe"
      },
      "outputs": [
        {
          "output_type": "execute_result",
          "data": {
            "text/plain": [
              "0.9"
            ]
          },
          "metadata": {},
          "execution_count": 82
        }
      ],
      "source": [
        "# New LogisticRegression score after RandomSearchCV tuning\n",
        "rs_log_reg.score(X_test, y_test)"
      ]
    },
    {
      "cell_type": "code",
      "execution_count": 83,
      "id": "aaa86b37-1a85-4659-acb5-b531df9a5c53",
      "metadata": {
        "colab": {
          "base_uri": "https://localhost:8080/"
        },
        "id": "aaa86b37-1a85-4659-acb5-b531df9a5c53",
        "outputId": "2e8e416e-4602-4642-bca4-0232638762db"
      },
      "outputs": [
        {
          "output_type": "stream",
          "name": "stdout",
          "text": [
            "current score after tuning LOgisticRegression:  0.9\n"
          ]
        },
        {
          "output_type": "execute_result",
          "data": {
            "text/plain": [
              "(None,\n",
              " {'DecisionTreeClassifier': 0.9166666666666666,\n",
              "  'KNN': 0.8333333333333334,\n",
              "  'Logistic Regression': 0.9,\n",
              "  'Random Forest': 0.9333333333333333,\n",
              "  'SVC': 0.8666666666666667})"
            ]
          },
          "metadata": {},
          "execution_count": 83
        }
      ],
      "source": [
        "# Comparing scores after tuning with former scores \n",
        "# New LogisticRegression score after RandomSearchCV tuning\n",
        "print('current score after tuning LOgisticRegression: ', rs_log_reg.score(X_test, y_test)), model_scores"
      ]
    },
    {
      "cell_type": "markdown",
      "id": "73aea080-22b4-401b-903b-eb4877656f93",
      "metadata": {
        "id": "73aea080-22b4-401b-903b-eb4877656f93"
      },
      "source": [
        "### Logistic Regression score remains thesame. NO CHANGE SO FAR"
      ]
    },
    {
      "cell_type": "markdown",
      "id": "b054b05a-cb4e-493a-888a-4590ea114e82",
      "metadata": {
        "id": "b054b05a-cb4e-493a-888a-4590ea114e82"
      },
      "source": [
        "### Now we fine tune RandomForestClassifier using RandomSEarchCV"
      ]
    },
    {
      "cell_type": "code",
      "execution_count": 88,
      "id": "c0267c4b-980a-451a-ab24-69bb6e73540b",
      "metadata": {
        "colab": {
          "base_uri": "https://localhost:8080/"
        },
        "id": "c0267c4b-980a-451a-ab24-69bb6e73540b",
        "outputId": "f3d2865a-7ed7-489b-dfbc-a7de975e58f1"
      },
      "outputs": [
        {
          "output_type": "stream",
          "name": "stdout",
          "text": [
            "Fitting 5 folds for each of 20 candidates, totalling 100 fits\n"
          ]
        }
      ],
      "source": [
        "# np.random.seed(0)\n",
        "# setup random hyperparameter search for RandomForestClassifer\n",
        "rs_rf = RandomizedSearchCV(RandomForestClassifier(),\n",
        "                               param_distributions=rf_grid,\n",
        "                               cv=5,\n",
        "                               n_iter=20,\n",
        "                               verbose=True)\n",
        "\n",
        "# fit random hyperparameter search model\n",
        "rs_rf.fit(X_train, y_train);"
      ]
    },
    {
      "cell_type": "code",
      "execution_count": 89,
      "id": "826b8b5e-370a-4770-9c25-60532400f48c",
      "metadata": {
        "colab": {
          "base_uri": "https://localhost:8080/"
        },
        "id": "826b8b5e-370a-4770-9c25-60532400f48c",
        "outputId": "885ff62f-6c30-4276-80a8-c0566a5c52f9"
      },
      "outputs": [
        {
          "output_type": "execute_result",
          "data": {
            "text/plain": [
              "{'max_depth': 3,\n",
              " 'min_samples_leaf': 15,\n",
              " 'min_samples_split': 10,\n",
              " 'n_estimators': 760}"
            ]
          },
          "metadata": {},
          "execution_count": 89
        }
      ],
      "source": [
        "# Pulling the best parameter from all different combinations (RandomSearchCV - RandomForestClassifier)\n",
        "rs_rf.best_params_"
      ]
    },
    {
      "cell_type": "code",
      "execution_count": 90,
      "id": "e8442a4f-82a6-4b6d-b890-2e8accce7af8",
      "metadata": {
        "colab": {
          "base_uri": "https://localhost:8080/"
        },
        "id": "e8442a4f-82a6-4b6d-b890-2e8accce7af8",
        "outputId": "294c7e77-90e7-4e6d-c3d3-304ec2e435d2"
      },
      "outputs": [
        {
          "output_type": "execute_result",
          "data": {
            "text/plain": [
              "0.9166666666666666"
            ]
          },
          "metadata": {},
          "execution_count": 90
        }
      ],
      "source": [
        "# Evaluate te randomized search random forest model\n",
        "rs_rf.score(X_test, y_test)"
      ]
    },
    {
      "cell_type": "code",
      "execution_count": 91,
      "id": "38c6df06-8f2b-4913-92d6-880b593011bc",
      "metadata": {
        "colab": {
          "base_uri": "https://localhost:8080/"
        },
        "id": "38c6df06-8f2b-4913-92d6-880b593011bc",
        "outputId": "2e89c3e5-86ba-4223-8fc7-4e5ed6be3dea"
      },
      "outputs": [
        {
          "output_type": "stream",
          "name": "stdout",
          "text": [
            "current score after tuning RandomForestClassifier:  0.9166666666666666\n"
          ]
        },
        {
          "output_type": "execute_result",
          "data": {
            "text/plain": [
              "(None,\n",
              " {'DecisionTreeClassifier': 0.9166666666666666,\n",
              "  'KNN': 0.8333333333333334,\n",
              "  'Logistic Regression': 0.9,\n",
              "  'Random Forest': 0.9333333333333333,\n",
              "  'SVC': 0.8666666666666667})"
            ]
          },
          "metadata": {},
          "execution_count": 91
        }
      ],
      "source": [
        "# Comparing scores after tuning with former scores \n",
        "# New LogisticRegression score after RandomSearchCV tuning\n",
        "print('current score after tuning RandomForestClassifier: ', rs_rf.score(X_test, y_test)), model_scores"
      ]
    },
    {
      "cell_type": "markdown",
      "id": "d364e2f3-fff7-4a71-be6a-ddcd73cc4c17",
      "metadata": {
        "id": "d364e2f3-fff7-4a71-be6a-ddcd73cc4c17"
      },
      "source": [
        "### We have a slight decrease in scores for RAndomforestclassifier - Randomsearchcv tuning"
      ]
    },
    {
      "cell_type": "markdown",
      "id": "5b8aa9da-124b-483b-b8ac-b540506da27d",
      "metadata": {
        "id": "5b8aa9da-124b-483b-b8ac-b540506da27d"
      },
      "source": [
        "## Doing more Tuning with GridSearchCV on LogisticRegression and RandomForestClassifier"
      ]
    },
    {
      "cell_type": "code",
      "execution_count": 92,
      "id": "08adb00a-82fc-49ad-aae0-6905603f3d38",
      "metadata": {
        "colab": {
          "base_uri": "https://localhost:8080/"
        },
        "id": "08adb00a-82fc-49ad-aae0-6905603f3d38",
        "outputId": "a97b91c8-4716-4399-948e-9c988a1a219e"
      },
      "outputs": [
        {
          "output_type": "stream",
          "name": "stdout",
          "text": [
            "Fitting 5 folds for each of 20 candidates, totalling 100 fits\n"
          ]
        },
        {
          "output_type": "execute_result",
          "data": {
            "text/plain": [
              "GridSearchCV(cv=5, estimator=LogisticRegression(),\n",
              "             param_grid={'C': array([1.00000000e-04, 2.63665090e-04, 6.95192796e-04, 1.83298071e-03,\n",
              "       4.83293024e-03, 1.27427499e-02, 3.35981829e-02, 8.85866790e-02,\n",
              "       2.33572147e-01, 6.15848211e-01, 1.62377674e+00, 4.28133240e+00,\n",
              "       1.12883789e+01, 2.97635144e+01, 7.84759970e+01, 2.06913808e+02,\n",
              "       5.45559478e+02, 1.43844989e+03, 3.79269019e+03, 1.00000000e+04]),\n",
              "                         'solver': ['liblinear']},\n",
              "             verbose=True)"
            ]
          },
          "metadata": {},
          "execution_count": 92
        }
      ],
      "source": [
        "# Different LogisticRegression Hyperparameters\n",
        "log_reg_grid = {'C': np.logspace(-4,4,20),\n",
        "                'solver': ['liblinear']}\n",
        "\n",
        "# setup grid hyperparameter search for LogisticRegression\n",
        "gs_log_reg = GridSearchCV(LogisticRegression(),\n",
        "                          param_grid=log_reg_grid,\n",
        "                          cv=5,\n",
        "                         verbose=True)\n",
        "\n",
        "# Fit grid hyperparameter search model\n",
        "gs_log_reg.fit(X_train, y_train)"
      ]
    },
    {
      "cell_type": "code",
      "execution_count": 93,
      "id": "62ff7485-148d-4cf8-ba93-5e1a58963789",
      "metadata": {
        "colab": {
          "base_uri": "https://localhost:8080/"
        },
        "id": "62ff7485-148d-4cf8-ba93-5e1a58963789",
        "outputId": "05dd1912-d130-4d92-a496-f3d880da8dc5"
      },
      "outputs": [
        {
          "output_type": "execute_result",
          "data": {
            "text/plain": [
              "{'C': 0.23357214690901212, 'solver': 'liblinear'}"
            ]
          },
          "metadata": {},
          "execution_count": 93
        }
      ],
      "source": [
        "# check the best parameter\n",
        "gs_log_reg.best_params_"
      ]
    },
    {
      "cell_type": "code",
      "execution_count": 94,
      "id": "b9166f0b-577e-46a2-b9db-17698716ae6d",
      "metadata": {
        "colab": {
          "base_uri": "https://localhost:8080/"
        },
        "id": "b9166f0b-577e-46a2-b9db-17698716ae6d",
        "outputId": "662e5acc-5073-4fcf-b844-04a35001f1f3"
      },
      "outputs": [
        {
          "output_type": "execute_result",
          "data": {
            "text/plain": [
              "0.9"
            ]
          },
          "metadata": {},
          "execution_count": 94
        }
      ],
      "source": [
        "# Evaluate Model\n",
        "gs_log_reg.score(X_test, y_test)"
      ]
    },
    {
      "cell_type": "markdown",
      "id": "1bb71846-5ceb-405a-9451-8545e4a82d4a",
      "metadata": {
        "id": "1bb71846-5ceb-405a-9451-8545e4a82d4a"
      },
      "source": [
        "### No improvement for Logistic Regression after tuning Gridsearchcv params"
      ]
    },
    {
      "cell_type": "markdown",
      "id": "c410b04d-f212-41cd-bc70-c8245093c256",
      "metadata": {
        "id": "c410b04d-f212-41cd-bc70-c8245093c256"
      },
      "source": [
        "### Now we fine tune RandomForestClassifier using GridSerachCV"
      ]
    },
    {
      "cell_type": "code",
      "execution_count": 40,
      "id": "e645c196-911f-4c6d-9505-4ecde7d08e97",
      "metadata": {
        "colab": {
          "base_uri": "https://localhost:8080/"
        },
        "id": "e645c196-911f-4c6d-9505-4ecde7d08e97",
        "outputId": "bf188f32-ed0e-4fcb-bac7-5907fb33c3bf"
      },
      "outputs": [
        {
          "output_type": "stream",
          "name": "stdout",
          "text": [
            "Fitting 5 folds for each of 720 candidates, totalling 3600 fits\n"
          ]
        },
        {
          "output_type": "execute_result",
          "data": {
            "text/plain": [
              "GridSearchCV(cv=5, estimator=RandomForestClassifier(),\n",
              "             param_grid={'max_depth': [None, 3, 5, 10],\n",
              "                         'min_samples_leaf': array([ 1,  3,  5,  7,  9, 11, 13, 15, 17, 19]),\n",
              "                         'min_samples_split': array([ 2,  4,  6,  8, 10, 12, 14, 16, 18]),\n",
              "                         'n_estimators': array([10, 60])},\n",
              "             verbose=True)"
            ]
          },
          "metadata": {},
          "execution_count": 40
        }
      ],
      "source": [
        "# Different RandomForestHyperparameters\n",
        "rf_grid = {'n_estimators': np.arange(10,100,50),\n",
        "           'max_depth': [None, 3,5,10],\n",
        "           'min_samples_split': np.arange(2,20,2),\n",
        "           'min_samples_leaf': np.arange(1,20,2)}\n",
        "\n",
        "# setup grid hyperparameter search for LogisticRegression\n",
        "gs_rf = GridSearchCV(RandomForestClassifier(),\n",
        "                               param_grid=rf_grid,\n",
        "                               cv=5,\n",
        "                               verbose=True)\n",
        "\n",
        "# Fit grid hyperparameter search model\n",
        "gs_rf.fit(X_train, y_train)"
      ]
    },
    {
      "cell_type": "code",
      "execution_count": 41,
      "id": "fc61753e-745e-41b3-9ac8-40a0494f0adb",
      "metadata": {
        "colab": {
          "base_uri": "https://localhost:8080/"
        },
        "id": "fc61753e-745e-41b3-9ac8-40a0494f0adb",
        "outputId": "b60f078d-0307-4fc5-f264-b371907eb415"
      },
      "outputs": [
        {
          "output_type": "execute_result",
          "data": {
            "text/plain": [
              "{'max_depth': 3,\n",
              " 'min_samples_leaf': 11,\n",
              " 'min_samples_split': 6,\n",
              " 'n_estimators': 10}"
            ]
          },
          "metadata": {},
          "execution_count": 41
        }
      ],
      "source": [
        "# check the best parameter\n",
        "gs_rf.best_params_"
      ]
    },
    {
      "cell_type": "code",
      "execution_count": 42,
      "id": "29ec72ba-5441-491c-9c28-710cfd096522",
      "metadata": {
        "colab": {
          "base_uri": "https://localhost:8080/"
        },
        "id": "29ec72ba-5441-491c-9c28-710cfd096522",
        "outputId": "0e682e7f-62f1-481d-ef59-c49b913ab6df"
      },
      "outputs": [
        {
          "output_type": "execute_result",
          "data": {
            "text/plain": [
              "0.9"
            ]
          },
          "metadata": {},
          "execution_count": 42
        }
      ],
      "source": [
        "gs_rf.score(X_test, y_test)"
      ]
    },
    {
      "cell_type": "markdown",
      "source": [
        "## From the Models work upon, we see the best model with best score is RandomForestClassifier with default settings (or no tuning)\n"
      ],
      "metadata": {
        "id": "IHBiXij8ovUb"
      },
      "id": "IHBiXij8ovUb"
    },
    {
      "cell_type": "code",
      "source": [
        "# RandomForestClassifier Tuning RandomSearchCV\n",
        "rs_rf.score(X_test, y_test)"
      ],
      "metadata": {
        "colab": {
          "base_uri": "https://localhost:8080/"
        },
        "id": "gy5jgaXwqUwo",
        "outputId": "4f208582-fab8-465d-a9df-ddc265ae2d2a"
      },
      "id": "gy5jgaXwqUwo",
      "execution_count": 95,
      "outputs": [
        {
          "output_type": "execute_result",
          "data": {
            "text/plain": [
              "0.9166666666666666"
            ]
          },
          "metadata": {},
          "execution_count": 95
        }
      ]
    },
    {
      "cell_type": "code",
      "source": [
        "model_scores"
      ],
      "metadata": {
        "colab": {
          "base_uri": "https://localhost:8080/"
        },
        "id": "NtxnOmwg5as1",
        "outputId": "830567f3-f5d6-49aa-b25a-8cf24dee7531"
      },
      "id": "NtxnOmwg5as1",
      "execution_count": 97,
      "outputs": [
        {
          "output_type": "execute_result",
          "data": {
            "text/plain": [
              "{'DecisionTreeClassifier': 0.9166666666666666,\n",
              " 'KNN': 0.8333333333333334,\n",
              " 'Logistic Regression': 0.9,\n",
              " 'Random Forest': 0.9333333333333333,\n",
              " 'SVC': 0.8666666666666667}"
            ]
          },
          "metadata": {},
          "execution_count": 97
        }
      ]
    },
    {
      "cell_type": "markdown",
      "source": [
        "## Let us try tuning DecisionTreeClassifier to better scores"
      ],
      "metadata": {
        "id": "O832pXQT5etm"
      },
      "id": "O832pXQT5etm"
    },
    {
      "cell_type": "code",
      "source": [
        "#DecisionTree Classifier\n",
        "# Writing codes to get the right leave nodes with best accuracy\n",
        "list1 = []\n",
        "for leaves in range(2,10):\n",
        "    classifier = DecisionTreeClassifier(max_leaf_nodes = leaves, random_state=0, criterion='entropy')\n",
        "    classifier.fit(X_train, y_train)\n",
        "    y_pred=classifier.predict(X_test)\n",
        "    list1.append(accuracy_score(y_test,y_pred))\n",
        "#print(mylist)\n",
        "plt.plot(list(range(2,10)), list1)\n",
        "plt.show()"
      ],
      "metadata": {
        "colab": {
          "base_uri": "https://localhost:8080/",
          "height": 265
        },
        "id": "bKs6EK445nm0",
        "outputId": "ae6817dd-6cbf-45af-c212-c2c626280f0d"
      },
      "id": "bKs6EK445nm0",
      "execution_count": 99,
      "outputs": [
        {
          "output_type": "display_data",
          "data": {
            "image/png": "[encoded data removed]",
            "text/plain": [
              "<Figure size 432x288 with 1 Axes>"
            ]
          },
          "metadata": {
            "needs_background": "light"
          }
        }
      ]
    },
    {
      "cell_type": "markdown",
      "source": [
        "### The plot above shows us leave_nodes 2-6 has the highest accuracy"
      ],
      "metadata": {
        "id": "Aq1abB4g5_01"
      },
      "id": "Aq1abB4g5_01"
    },
    {
      "cell_type": "code",
      "source": [
        "# Tuning DecisionTreeClassifier with the right leave_nodes and fitting\n",
        "dt_clf = DecisionTreeClassifier(max_leaf_nodes=2, random_state=0, criterion='entropy')\n",
        "dt_clf.fit(X_train, y_train)\n",
        "dt_clf.score(X_test, y_test)"
      ],
      "metadata": {
        "colab": {
          "base_uri": "https://localhost:8080/"
        },
        "id": "8TjaiF6O6RHJ",
        "outputId": "eb9a8d49-41c0-421c-d245-bfaf0e54227e"
      },
      "id": "8TjaiF6O6RHJ",
      "execution_count": 101,
      "outputs": [
        {
          "output_type": "execute_result",
          "data": {
            "text/plain": [
              "0.95"
            ]
          },
          "metadata": {},
          "execution_count": 101
        }
      ]
    },
    {
      "cell_type": "code",
      "source": [
        "# Running predictions with model DecisionTreeClassifier\n",
        "dt_pred = dt_clf.predict(X_test)\n",
        "dt_pred"
      ],
      "metadata": {
        "colab": {
          "base_uri": "https://localhost:8080/"
        },
        "id": "Dshs3fT_6y5B",
        "outputId": "45f7edf1-94f8-43d5-f7ba-60130131b250"
      },
      "id": "Dshs3fT_6y5B",
      "execution_count": 105,
      "outputs": [
        {
          "output_type": "execute_result",
          "data": {
            "text/plain": [
              "array([0, 0, 1, 0, 0, 0, 0, 0, 0, 0, 0, 1, 0, 0, 1, 0, 0, 0, 0, 0, 1, 0,\n",
              "       0, 0, 0, 1, 0, 0, 0, 1, 1, 0, 0, 0, 0, 0, 1, 0, 0, 0, 0, 0, 0, 0,\n",
              "       1, 1, 0, 0, 0, 0, 1, 0, 0, 1, 1, 0, 0, 0, 1, 0])"
            ]
          },
          "metadata": {},
          "execution_count": 105
        }
      ]
    },
    {
      "cell_type": "code",
      "source": [
        "# Let us check our confusion_matrix on the DecisionTreeClassifier tuned\n",
        "confusion_matrix(y_test,dt_pred)"
      ],
      "metadata": {
        "colab": {
          "base_uri": "https://localhost:8080/"
        },
        "id": "__LtAb4dqbj5",
        "outputId": "ae084a85-b808-4f07-ffd4-02c500a5bf47"
      },
      "id": "__LtAb4dqbj5",
      "execution_count": 108,
      "outputs": [
        {
          "output_type": "execute_result",
          "data": {
            "text/plain": [
              "array([[43,  0],\n",
              "       [ 3, 14]])"
            ]
          },
          "metadata": {},
          "execution_count": 108
        }
      ]
    },
    {
      "cell_type": "code",
      "source": [
        "# Let us run a DecisionTreeClassifier report on the best model tuned\n",
        "print(classification_report(y_test,dt_pred))"
      ],
      "metadata": {
        "colab": {
          "base_uri": "https://localhost:8080/"
        },
        "id": "geBepph7rHjB",
        "outputId": "7dbb2643-5fca-4022-a1ab-b2ec5ebf06aa"
      },
      "id": "geBepph7rHjB",
      "execution_count": 109,
      "outputs": [
        {
          "output_type": "stream",
          "name": "stdout",
          "text": [
            "              precision    recall  f1-score   support\n",
            "\n",
            "           0       0.93      1.00      0.97        43\n",
            "           1       1.00      0.82      0.90        17\n",
            "\n",
            "    accuracy                           0.95        60\n",
            "   macro avg       0.97      0.91      0.93        60\n",
            "weighted avg       0.95      0.95      0.95        60\n",
            "\n"
          ]
        }
      ]
    },
    {
      "cell_type": "markdown",
      "source": [
        "# SO FAR SO GOOD, WE HAVE COME UP WITH THE BEST MODEL SO FAR. \n",
        "# DecisionTreeClassifier with a leave_node tuned to 2 for best accuracy IS THE BEST SCORE WE HAVE = 95% ACCURACY"
      ],
      "metadata": {
        "id": "LRHkZWG0rWvW"
      },
      "id": "LRHkZWG0rWvW"
    },
    {
      "cell_type": "code",
      "source": [
        ""
      ],
      "metadata": {
        "id": "uNly1K6-sONR"
      },
      "id": "uNly1K6-sONR",
      "execution_count": null,
      "outputs": []
    }
  ],
  "metadata": {
    "kernelspec": {
      "display_name": "Python 3 (ipykernel)",
      "language": "python",
      "name": "python3"
    },
    "language_info": {
      "codemirror_mode": {
        "name": "ipython",
        "version": 3
      },
      "file_extension": ".py",
      "mimetype": "text/x-python",
      "name": "python",
      "nbconvert_exporter": "python",
      "pygments_lexer": "ipython3",
      "version": "3.8.8"
    },
    "colab": {
      "name": "Biweekly_challenge4_Models_1.ipynb",
      "provenance": []
    }
  },
  "nbformat": 4,
  "nbformat_minor": 5
}